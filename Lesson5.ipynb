{
  "nbformat": 4,
  "nbformat_minor": 0,
  "metadata": {
    "colab": {
      "provenance": []
    },
    "kernelspec": {
      "name": "python3",
      "display_name": "Python 3"
    },
    "language_info": {
      "name": "python"
    }
  },
  "cells": [
    {
      "cell_type": "markdown",
      "source": [
        "# Урок 5. Проверка статистических гипотез. P-значения. Доверительные интервалы. A/B-тестирование\n",
        "1.Известно, что генеральная совокупность распределена нормально\n",
        "со средним квадратическим отклонением, равным 16.\n",
        "Найти доверительный интервал для оценки математического ожидания a с надежностью 0.95,\n",
        "если выборочная средняя M = 80, а объем выборки n = 256."
      ],
      "metadata": {
        "id": "7BJXrg71GI-l"
      }
    },
    {
      "cell_type": "code",
      "execution_count": 1,
      "metadata": {
        "colab": {
          "base_uri": "https://localhost:8080/"
        },
        "id": "_YnpBC1NDcgs",
        "outputId": "55964df8-a3a4-4d93-e028-8ee61126a31c"
      },
      "outputs": [
        {
          "output_type": "stream",
          "name": "stdout",
          "text": [
            "[78.04;81.96]\n"
          ]
        }
      ],
      "source": [
        "left = 80 - 1.96 * 16/256 **(1/2)\n",
        "right = 80 + 1.96 * 16/256 **(1/2)\n",
        "print(f'[{left};{right}]')"
      ]
    },
    {
      "cell_type": "markdown",
      "source": [
        "2.В результате 10 независимых измерений некоторой величины X, выполненных с одинаковой точностью,\n",
        "получены опытные данные:\n",
        "6.9, 6.1, 6.2, 6.8, 7.5, 6.3, 6.4, 6.9, 6.7, 6.1\n",
        "Предполагая, что результаты измерений подчинены нормальному закону распределения вероятностей,\n",
        "оценить истинное значение величины X при помощи доверительного интервала, покрывающего это\n",
        "значение с доверительной вероятностью 0,95."
      ],
      "metadata": {
        "id": "G-dfOtNXHZqO"
      }
    },
    {
      "cell_type": "code",
      "source": [
        "import numpy as np"
      ],
      "metadata": {
        "id": "4ZAM9LEvHeOP"
      },
      "execution_count": 2,
      "outputs": []
    },
    {
      "cell_type": "code",
      "source": [
        "a = np.array([6.9, 6.1, 6.2, 6.8, 7.5, 6.3, 6.4, 6.9, 6.7, 6.1])\n",
        "print(f'm = {np.mean(a):.2f}')\n",
        "print(f'n = {len(a)}')\n",
        "print(f's = {np.std(a, ddof = 1):.2f}')"
      ],
      "metadata": {
        "colab": {
          "base_uri": "https://localhost:8080/"
        },
        "id": "10m_srYMHvee",
        "outputId": "66b85597-e350-4946-c265-c39efa6c8c55"
      },
      "execution_count": 3,
      "outputs": [
        {
          "output_type": "stream",
          "name": "stdout",
          "text": [
            "m = 6.59\n",
            "n = 10\n",
            "s = 0.45\n"
          ]
        }
      ]
    },
    {
      "cell_type": "code",
      "source": [
        "import scipy.stats as stats"
      ],
      "metadata": {
        "id": "jlCiy_vZJCnZ"
      },
      "execution_count": 4,
      "outputs": []
    },
    {
      "cell_type": "code",
      "source": [
        "def t_from_t(confidens, len_array):\n",
        "  alpha = 1 - confidens\n",
        "  return stats.t.ppf(1 - alpha/2, len_array - 1)\n",
        "\n",
        "print(f'tt = {t_from_t(0.95, len(a)):.3f}')"
      ],
      "metadata": {
        "colab": {
          "base_uri": "https://localhost:8080/"
        },
        "id": "Rpwvr3-GKK4w",
        "outputId": "329f3756-070b-43c6-e1df-21b6b03663a8"
      },
      "execution_count": 5,
      "outputs": [
        {
          "output_type": "stream",
          "name": "stdout",
          "text": [
            "tt = 2.262\n"
          ]
        }
      ]
    },
    {
      "cell_type": "code",
      "source": [
        "def confidens_int(array, confidens):\n",
        "  return round(np.mean(a) - t_from_t(confidens, len(a)) * np.std(a, ddof = 1) / len(a) ** 0.5,3), \\\n",
        "         round(np.mean(a) + t_from_t(confidens, len(a)) * np.std(a, ddof = 1) / len(a) ** 0.5,3)\n",
        "print(f'X = {confidens_int(a, 0.95)}')"
      ],
      "metadata": {
        "colab": {
          "base_uri": "https://localhost:8080/"
        },
        "id": "-GB5fzByL0Z7",
        "outputId": "3f10fb7c-3e65-4360-d227-37266f4e57f2"
      },
      "execution_count": 7,
      "outputs": [
        {
          "output_type": "stream",
          "name": "stdout",
          "text": [
            "X = (6.268, 6.912)\n"
          ]
        }
      ]
    },
    {
      "cell_type": "markdown",
      "source": [
        "3.Утверждается, что шарики для подшипников, изготовленные автоматическим станком, имеют средний диаметр 17 мм.\n",
        "Используя односторонний критерий с α=0,05, проверить эту гипотезу, если в выборке из n=100 шариков средний диаметр"
      ],
      "metadata": {
        "id": "svbfzHGGPl8P"
      }
    },
    {
      "cell_type": "code",
      "source": [
        "zn = (17.5 - 17)/0.2\n",
        "print(f'zn = {zn:.4f}')"
      ],
      "metadata": {
        "colab": {
          "base_uri": "https://localhost:8080/"
        },
        "id": "1_qbvYJwP8Bg",
        "outputId": "83d631af-56ae-4998-8b11-af868ab2430b"
      },
      "execution_count": 8,
      "outputs": [
        {
          "output_type": "stream",
          "name": "stdout",
          "text": [
            "zn = 2.5000\n"
          ]
        }
      ]
    },
    {
      "cell_type": "code",
      "source": [
        "zt = stats.norm.ppf(0.95)\n",
        "print(f'zt = {zt:.4f}')"
      ],
      "metadata": {
        "colab": {
          "base_uri": "https://localhost:8080/"
        },
        "id": "T_b45Ke2SKn7",
        "outputId": "d1c566a1-a60a-4dfa-9f2e-7b21747c83a7"
      },
      "execution_count": 9,
      "outputs": [
        {
          "output_type": "stream",
          "name": "stdout",
          "text": [
            "zt = 1.6449\n"
          ]
        }
      ]
    },
    {
      "cell_type": "code",
      "source": [
        "zn < zt"
      ],
      "metadata": {
        "colab": {
          "base_uri": "https://localhost:8080/"
        },
        "id": "XFPArslfSfap",
        "outputId": "4c75a9e9-bc72-496c-f405-7a0dbf004225"
      },
      "execution_count": 10,
      "outputs": [
        {
          "output_type": "execute_result",
          "data": {
            "text/plain": [
              "False"
            ]
          },
          "metadata": {},
          "execution_count": 10
        }
      ]
    },
    {
      "cell_type": "markdown",
      "source": [
        "Отвергаем нулевую гипотезу на уровне значимости а = 0,05."
      ],
      "metadata": {
        "id": "uFIdupSeSkzb"
      }
    },
    {
      "cell_type": "markdown",
      "source": [
        "4.Продавец утверждает, что средний вес пачки печенья составляет 200 г.\n",
        "Из партии извлечена выборка из 10 пачек. Вес каждой пачки составляет:\n",
        "202, 203, 199, 197, 195, 201, 200, 204, 194, 190.\n",
        "Известно, что их веса распределены нормально.\n",
        "Верно ли утверждение продавца, если учитывать, что доверительная вероятность равна 99%?"
      ],
      "metadata": {
        "id": "5ghU20L3S4NT"
      }
    },
    {
      "cell_type": "code",
      "source": [
        "cookies = np.array([202, 203, 199, 197, 195, 201, 200, 204, 194, 190])"
      ],
      "metadata": {
        "id": "yVJogkLZTECF"
      },
      "execution_count": 11,
      "outputs": []
    },
    {
      "cell_type": "code",
      "source": [
        "tn = (np.mean(cookies) - 200)/(np.std(cookies, ddof = 1)/len(cookies)**0.5)\n",
        "print(f'tn = {tn:.4f}')"
      ],
      "metadata": {
        "colab": {
          "base_uri": "https://localhost:8080/"
        },
        "id": "GNPDUV0tTYYn",
        "outputId": "e40b81a2-12d9-4d35-c1d0-a1d202d0ee53"
      },
      "execution_count": 12,
      "outputs": [
        {
          "output_type": "stream",
          "name": "stdout",
          "text": [
            "tn = -1.0651\n"
          ]
        }
      ]
    },
    {
      "cell_type": "code",
      "source": [
        "tt = stats.t.ppf(0.995, len(cookies) - 1)\n",
        "print(f'tt = {tt:.4f}')"
      ],
      "metadata": {
        "colab": {
          "base_uri": "https://localhost:8080/"
        },
        "id": "pIi0laRMUW2M",
        "outputId": "e2c02856-0a49-4edd-9796-6e2082bea4eb"
      },
      "execution_count": 14,
      "outputs": [
        {
          "output_type": "stream",
          "name": "stdout",
          "text": [
            "tt = 3.2498\n"
          ]
        }
      ]
    },
    {
      "cell_type": "code",
      "source": [
        "np.abs(tn) < tt"
      ],
      "metadata": {
        "colab": {
          "base_uri": "https://localhost:8080/"
        },
        "id": "NyZKX06XVCH-",
        "outputId": "79a5db8e-bf4f-4063-a40c-f61efd81bd5a"
      },
      "execution_count": 15,
      "outputs": [
        {
          "output_type": "execute_result",
          "data": {
            "text/plain": [
              "True"
            ]
          },
          "metadata": {},
          "execution_count": 15
        }
      ]
    },
    {
      "cell_type": "markdown",
      "source": [
        "Принимаем нулевую гипотезу на уровне значимости а = 0,01."
      ],
      "metadata": {
        "id": "MK5T2PAoVJKe"
      }
    }
  ]
}