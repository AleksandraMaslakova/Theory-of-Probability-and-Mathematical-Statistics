{
  "nbformat": 4,
  "nbformat_minor": 0,
  "metadata": {
    "colab": {
      "provenance": []
    },
    "kernelspec": {
      "name": "python3",
      "display_name": "Python 3"
    },
    "language_info": {
      "name": "python"
    }
  },
  "cells": [
    {
      "cell_type": "markdown",
      "source": [
        "# Урок 2. Дискретные случайные величины. Закон распределения вероятностей. Биномиальный закон распределения. Распределение Пуассона\n",
        "\n",
        "1.Вероятность того, что стрелок попадет в мишень, выстрелив один раз, равна 0.8. Стрелок выстрелил 100 раз. Найдите вероятность того, что стрелок попадет в цель ровно 85 раз."
      ],
      "metadata": {
        "id": "aJl9iEU7F_kI"
      }
    },
    {
      "cell_type": "code",
      "execution_count": 1,
      "metadata": {
        "id": "10WmI_ZWFrDJ"
      },
      "outputs": [],
      "source": [
        "from math import factorial, exp"
      ]
    },
    {
      "cell_type": "code",
      "source": [
        "def bernulli(n, k, p):\n",
        "  comb = factorial(n)/(factorial(k) * factorial(n-k))\n",
        "  return comb*(p**k)*(1-p)**(n-k)"
      ],
      "metadata": {
        "id": "-__o8XmdGxoj"
      },
      "execution_count": 5,
      "outputs": []
    },
    {
      "cell_type": "code",
      "source": [
        "print(f'P = {bernulli(100, 85, 0.8):.4f}')"
      ],
      "metadata": {
        "colab": {
          "base_uri": "https://localhost:8080/"
        },
        "id": "bL_vC7w0HR6i",
        "outputId": "e51162cc-ddde-480c-c76b-71816a99c372"
      },
      "execution_count": 6,
      "outputs": [
        {
          "output_type": "stream",
          "name": "stdout",
          "text": [
            "P = 0.0481\n"
          ]
        }
      ]
    },
    {
      "cell_type": "markdown",
      "source": [
        "P = 0.0481 = 4,81%"
      ],
      "metadata": {
        "id": "V3-H9BWSIISV"
      }
    },
    {
      "cell_type": "markdown",
      "source": [
        "2.Вероятность того, что лампочка перегорит в течение первого дня эксплуатации, равна 0.0004. В жилом комплексе после ремонта в один день включили 5000 новых лампочек. \n",
        "a)Какова вероятность, что ни одна из них не перегорит в первый день? \n",
        "b)Какова вероятность, что перегорят ровно две?"
      ],
      "metadata": {
        "id": "XyZWncmXIS17"
      }
    },
    {
      "cell_type": "code",
      "source": [
        "def poisson_distr(m, p, n):\n",
        "  lamb = p * n\n",
        "  return exp(-lamb)*(lamb**m)/factorial(m)"
      ],
      "metadata": {
        "id": "4DmSIlt8Id8s"
      },
      "execution_count": 7,
      "outputs": []
    },
    {
      "cell_type": "code",
      "source": [
        "#a)\n",
        "print(f'P = {poisson_distr(0, 0.0004, 5000):.4f}')"
      ],
      "metadata": {
        "colab": {
          "base_uri": "https://localhost:8080/"
        },
        "id": "G2650fsBJWbr",
        "outputId": "e948f9a2-a065-4960-f828-b14e95f95db4"
      },
      "execution_count": 8,
      "outputs": [
        {
          "output_type": "stream",
          "name": "stdout",
          "text": [
            "P = 0.1353\n"
          ]
        }
      ]
    },
    {
      "cell_type": "markdown",
      "source": [
        "P = 0.1353 = 0,1353%"
      ],
      "metadata": {
        "id": "Pdji_SP5JyPl"
      }
    },
    {
      "cell_type": "code",
      "source": [
        "#b)\n",
        "print(f'P = {poisson_distr(2, 0.0004, 5000):.4f}')"
      ],
      "metadata": {
        "colab": {
          "base_uri": "https://localhost:8080/"
        },
        "id": "7S9bjrY1J7wo",
        "outputId": "8a37ca7e-5461-449b-cada-6b7da3b86803"
      },
      "execution_count": 9,
      "outputs": [
        {
          "output_type": "stream",
          "name": "stdout",
          "text": [
            "P = 0.2707\n"
          ]
        }
      ]
    },
    {
      "cell_type": "markdown",
      "source": [
        "P = 0.2707 = 0,2707%"
      ],
      "metadata": {
        "id": "p7BLXEY7KYhO"
      }
    },
    {
      "cell_type": "markdown",
      "source": [
        "3.Монету подбросили 144 раза. Какова вероятность, что орел выпадет ровно 70 раз?"
      ],
      "metadata": {
        "id": "zSqdbedhKgnc"
      }
    },
    {
      "cell_type": "code",
      "source": [
        "print(f'P = {bernulli(144, 70, 0.5):.4f}')"
      ],
      "metadata": {
        "colab": {
          "base_uri": "https://localhost:8080/"
        },
        "id": "WK6HQH0EKdJd",
        "outputId": "270d4634-ccd0-4c90-d4a1-b3f585ecc40c"
      },
      "execution_count": 10,
      "outputs": [
        {
          "output_type": "stream",
          "name": "stdout",
          "text": [
            "P = 0.0628\n"
          ]
        }
      ]
    },
    {
      "cell_type": "markdown",
      "source": [
        "P = 0.0628 = 6,28%"
      ],
      "metadata": {
        "id": "e-zV4etGLCyI"
      }
    },
    {
      "cell_type": "markdown",
      "source": [
        "4.В первом ящике находится 10 мячей, из которых 7 - белые. Во втором ящике - 11 мячей, из которых 9 белых. Из каждого ящика вытаскивают случайным образом по два мяча. a)Какова вероятность того, что все мячи белые? b)Какова вероятность того, что ровно два мяча белые? c)Какова вероятность того, что хотя бы один мяч белый?"
      ],
      "metadata": {
        "id": "rgVkLh2ZLiZ5"
      }
    },
    {
      "cell_type": "code",
      "source": [
        "def combinations(n, k):\n",
        "  return int(factorial(n) / (factorial(k) * factorial(n-k)))"
      ],
      "metadata": {
        "id": "pco_KekRLocU"
      },
      "execution_count": 12,
      "outputs": []
    },
    {
      "cell_type": "code",
      "source": [
        "n1 = combinations(10, 2)\n",
        "n2 = combinations(11, 2)\n",
        "print(f'first basket = {n1}')\n",
        "print(f'second basket = {n2}')"
      ],
      "metadata": {
        "colab": {
          "base_uri": "https://localhost:8080/"
        },
        "id": "qLVVxWpmNCU7",
        "outputId": "3358a823-47f1-4d0b-954d-1cdbd046ede6"
      },
      "execution_count": 13,
      "outputs": [
        {
          "output_type": "stream",
          "name": "stdout",
          "text": [
            "first basket = 45\n",
            "second basket = 55\n"
          ]
        }
      ]
    },
    {
      "cell_type": "code",
      "source": [
        "m1 = combinations(7, 2)\n",
        "m2 = combinations(9, 2)\n",
        "print(f'm1 = {m1}')\n",
        "print(f'm2 = {m2}')"
      ],
      "metadata": {
        "colab": {
          "base_uri": "https://localhost:8080/"
        },
        "id": "JMmbLET5Oj9M",
        "outputId": "86116f0f-ec1b-4655-fae8-5dd8dcc463b7"
      },
      "execution_count": 16,
      "outputs": [
        {
          "output_type": "stream",
          "name": "stdout",
          "text": [
            "m1 = 21\n",
            "m2 = 36\n"
          ]
        }
      ]
    },
    {
      "cell_type": "code",
      "source": [
        "print(f'P(A) = {m1/n1:.4f}')\n",
        "print(f'P(B) = {m2/n2:.4f}')\n",
        "print(f'P(A+B) = {(m1/n1)*(m2/n2):.4f}')"
      ],
      "metadata": {
        "colab": {
          "base_uri": "https://localhost:8080/"
        },
        "id": "3ExnQquQPR_P",
        "outputId": "a3e09b9c-5f92-477a-f5e7-061be539e5e4"
      },
      "execution_count": 17,
      "outputs": [
        {
          "output_type": "stream",
          "name": "stdout",
          "text": [
            "P(A) = 0.4667\n",
            "P(B) = 0.6545\n",
            "P(A+B) = 0.3055\n"
          ]
        }
      ]
    },
    {
      "cell_type": "markdown",
      "source": [
        "P = 0.3055 = 30,55%"
      ],
      "metadata": {
        "id": "A4EYVSOBP-Z4"
      }
    },
    {
      "cell_type": "code",
      "source": [
        "m_A = combinations(7,2)\n",
        "m_B = combinations(2,2)\n",
        "m_C = combinations(7,1)*combinations(3,1)\n",
        "m_D = combinations(9,1)*combinations(2,1)\n",
        "m_E = combinations(3,2)\n",
        "m_F = combinations(9,2)\n",
        "\n",
        "print(f'm_A = {m_A}')\n",
        "print(f'm_B = {m_B}')\n",
        "print(f'm_C = {m_C}')\n",
        "print(f'm_D = {m_D}')\n",
        "print(f'm_E = {m_E}')\n",
        "print(f'm_F = {m_F}')"
      ],
      "metadata": {
        "colab": {
          "base_uri": "https://localhost:8080/"
        },
        "id": "CAJrXnlEQGGr",
        "outputId": "d47dadea-8d4b-4cfb-eb49-7a96e244787e"
      },
      "execution_count": 19,
      "outputs": [
        {
          "output_type": "stream",
          "name": "stdout",
          "text": [
            "m_A = 21\n",
            "m_B = 1\n",
            "m_C = 21\n",
            "m_D = 18\n",
            "m_E = 3\n",
            "m_F = 36\n"
          ]
        }
      ]
    },
    {
      "cell_type": "code",
      "source": [
        "P = (m_A/n1)*(m_B/n2)+(m_C/n1)*(m_D/n2)+(m_E/n1)*(m_F/n2)\n",
        "print(f'P = {P:.4f}')"
      ],
      "metadata": {
        "colab": {
          "base_uri": "https://localhost:8080/"
        },
        "id": "NJ0jNYAgQ9Vb",
        "outputId": "f9decb2d-b815-49db-81b6-f17cd5b6187d"
      },
      "execution_count": 20,
      "outputs": [
        {
          "output_type": "stream",
          "name": "stdout",
          "text": [
            "P = 0.2048\n"
          ]
        }
      ]
    },
    {
      "cell_type": "markdown",
      "source": [
        "P = 0.2048 = 20,48%"
      ],
      "metadata": {
        "id": "yxEHXyrYRY2R"
      }
    },
    {
      "cell_type": "code",
      "source": [
        "#c)\n",
        "m1 = combinations(3, 2)\n",
        "m2 = combinations(2, 2)\n",
        "print(f'm1 = {m1}')\n",
        "print(f'm2 = {m2}')"
      ],
      "metadata": {
        "colab": {
          "base_uri": "https://localhost:8080/"
        },
        "id": "mIV0sSApRerM",
        "outputId": "3efd3f4d-c2e3-427c-d542-efbcb4038606"
      },
      "execution_count": 22,
      "outputs": [
        {
          "output_type": "stream",
          "name": "stdout",
          "text": [
            "m1 = 3\n",
            "m2 = 1\n"
          ]
        }
      ]
    },
    {
      "cell_type": "code",
      "source": [
        "print(f'P(A_) = {(m1/n1)*(m2/n2):.4f}')\n",
        "print(f'P(A) = {1 - (m1/n1)*(m2/n2):.4f}')"
      ],
      "metadata": {
        "colab": {
          "base_uri": "https://localhost:8080/"
        },
        "id": "k0ka3NG7SE4Q",
        "outputId": "e700ef61-aeaa-4f0a-f42a-645fe596fc17"
      },
      "execution_count": 23,
      "outputs": [
        {
          "output_type": "stream",
          "name": "stdout",
          "text": [
            "P(A_) = 0.0012\n",
            "P(A) = 0.9988\n"
          ]
        }
      ]
    },
    {
      "cell_type": "markdown",
      "source": [
        "P(A) = 0.9988 = 99.88%"
      ],
      "metadata": {
        "id": "J9OSoXFrSnCu"
      }
    }
  ]
}