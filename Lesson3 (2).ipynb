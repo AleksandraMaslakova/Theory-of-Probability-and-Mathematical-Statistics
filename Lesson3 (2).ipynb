{
  "nbformat": 4,
  "nbformat_minor": 0,
  "metadata": {
    "colab": {
      "provenance": []
    },
    "kernelspec": {
      "name": "python3",
      "display_name": "Python 3"
    },
    "language_info": {
      "name": "python"
    }
  },
  "cells": [
    {
      "cell_type": "markdown",
      "source": [
        "# Урок 3. Описательная статистика. Качественные и количественные характеристики популяции. Графическое представление данных\n",
        "1.Даны значения зарплат из выборки выпускников: 100, 80, 75, 77, 89, 33, 45, 25, 65, 17, 30, 24, 57, 55, 70, 75, 65, 84, 90, 150. Посчитать (желательно без использования статистических методов наподобие std, var, mean):\n",
        "a) среднее арифметическое,\n",
        "b) среднее квадратичное отклонение,\n",
        "c) смещенную и несмещенную оценки дисперсий для данной выборки."
      ],
      "metadata": {
        "id": "o89I2mG2WkPe"
      }
    },
    {
      "cell_type": "code",
      "execution_count": 13,
      "metadata": {
        "id": "lBAj9TA7WdFI"
      },
      "outputs": [],
      "source": [
        "import numpy as np\n",
        "from math import factorial"
      ]
    },
    {
      "cell_type": "code",
      "source": [
        "a = np.array([100, 80, 75, 77, 89, 33, 45, 25, 65, 17, 30, 24, 57, 55, 70, 75,65, 84, 90, 150])\n",
        "a"
      ],
      "metadata": {
        "colab": {
          "base_uri": "https://localhost:8080/"
        },
        "id": "m4z5peJvXPFd",
        "outputId": "c8acf787-6b55-478a-efbd-c549abb171a9"
      },
      "execution_count": 14,
      "outputs": [
        {
          "output_type": "execute_result",
          "data": {
            "text/plain": [
              "array([100,  80,  75,  77,  89,  33,  45,  25,  65,  17,  30,  24,  57,\n",
              "        55,  70,  75,  65,  84,  90, 150])"
            ]
          },
          "metadata": {},
          "execution_count": 14
        }
      ]
    },
    {
      "cell_type": "code",
      "source": [
        "#a)\n",
        "def mean_value(array):\n",
        "  return sum(array)/len(array)"
      ],
      "metadata": {
        "id": "V4Uw2DqPXxzf"
      },
      "execution_count": 15,
      "outputs": []
    },
    {
      "cell_type": "code",
      "source": [
        "print(f'M(X) = {mean_value(a):.4f}')"
      ],
      "metadata": {
        "colab": {
          "base_uri": "https://localhost:8080/"
        },
        "id": "JLn1gBMxYcjw",
        "outputId": "c0d8d726-bbf9-4035-ca2f-8099d4b696f5"
      },
      "execution_count": 16,
      "outputs": [
        {
          "output_type": "stream",
          "name": "stdout",
          "text": [
            "M(X) = 65.3000\n"
          ]
        }
      ]
    },
    {
      "cell_type": "code",
      "source": [
        "np.mean(a)"
      ],
      "metadata": {
        "colab": {
          "base_uri": "https://localhost:8080/"
        },
        "id": "THMe8AGgY2pJ",
        "outputId": "48d95706-af9a-4faa-dd79-2754e4be89ca"
      },
      "execution_count": 17,
      "outputs": [
        {
          "output_type": "execute_result",
          "data": {
            "text/plain": [
              "65.3"
            ]
          },
          "metadata": {},
          "execution_count": 17
        }
      ]
    },
    {
      "cell_type": "code",
      "source": [
        "#b)\n",
        "def mean_square_deviation(array):\n",
        "  square_dev = (array-mean_value(array))**2\n",
        "  return (sum(square_dev)/len(square_dev))**(1/2)"
      ],
      "metadata": {
        "id": "zOp9yOoCY6go"
      },
      "execution_count": 18,
      "outputs": []
    },
    {
      "cell_type": "code",
      "source": [
        "print(f'SD = {mean_square_deviation(a):.4f}')"
      ],
      "metadata": {
        "colab": {
          "base_uri": "https://localhost:8080/"
        },
        "id": "PtylLcy7dp7l",
        "outputId": "de57ce42-5bdd-4597-aa8c-de0d38d9fa67"
      },
      "execution_count": 19,
      "outputs": [
        {
          "output_type": "stream",
          "name": "stdout",
          "text": [
            "SD = 30.8239\n"
          ]
        }
      ]
    },
    {
      "cell_type": "code",
      "source": [
        "#c)\n",
        "def dispers(array, no_off=False):\n",
        "  square_dev = (array-mean_value(array))**2\n",
        "  return sum(square_dev)/(len(square_dev)-1) if no_off else sum(square_dev)/len(square_dev)"
      ],
      "metadata": {
        "id": "lwqZH7gkeUFz"
      },
      "execution_count": 22,
      "outputs": []
    },
    {
      "cell_type": "code",
      "source": [
        "print(f'D1 = {dispers(a):.4f}')\n",
        "print(f'D2 = {dispers(a, True):.4f}')"
      ],
      "metadata": {
        "colab": {
          "base_uri": "https://localhost:8080/"
        },
        "id": "DgKrB4Cxglj-",
        "outputId": "e8810476-b6ef-436e-fa21-5fad38306273"
      },
      "execution_count": 23,
      "outputs": [
        {
          "output_type": "stream",
          "name": "stdout",
          "text": [
            "D1 = 950.1100\n",
            "D2 = 1000.1158\n"
          ]
        }
      ]
    },
    {
      "cell_type": "markdown",
      "source": [
        "2.В первом ящике находится 8 мячей, из которых 5 - белые. Во втором ящике - 12 мячей, из которых 5 белых. Из первого ящика вытаскивают случайным образом два мяча, из второго - 4. Какова вероятность того, что 3 мяча белые?"
      ],
      "metadata": {
        "id": "YUwayoFii3Ho"
      }
    },
    {
      "cell_type": "code",
      "source": [
        "def combinations(n, k):\n",
        "  return factorial(n)/(factorial(k)*factorial(n-k))"
      ],
      "metadata": {
        "id": "FoAOhmXZhv9-"
      },
      "execution_count": 24,
      "outputs": []
    },
    {
      "cell_type": "code",
      "source": [
        "P1 = (combinations(3,2)/combinations(8,2)*combinations(5,3)*combinations(7,1)/combinations(12,4))\n",
        "print(f'A1 = {P1:.4f}')"
      ],
      "metadata": {
        "colab": {
          "base_uri": "https://localhost:8080/"
        },
        "id": "DD4apTqukXhR",
        "outputId": "e6e95ad9-5721-4b8b-d227-6b4ce86cba68"
      },
      "execution_count": 25,
      "outputs": [
        {
          "output_type": "stream",
          "name": "stdout",
          "text": [
            "A1 = 0.0152\n"
          ]
        }
      ]
    },
    {
      "cell_type": "code",
      "source": [
        "P2 = (combinations(5,1)*combinations(3,1)*combinations(5,2)*combinations(7,2))/(combinations(8,2)*combinations(12,4))\n",
        "print(f'A2 = {P2:.4f}')"
      ],
      "metadata": {
        "colab": {
          "base_uri": "https://localhost:8080/"
        },
        "id": "TFisXt2ol9lc",
        "outputId": "878e979a-a516-4430-c64c-450cfdb00557"
      },
      "execution_count": 27,
      "outputs": [
        {
          "output_type": "stream",
          "name": "stdout",
          "text": [
            "A2 = 0.2273\n"
          ]
        }
      ]
    },
    {
      "cell_type": "code",
      "source": [
        "P3 = (combinations(5,2)*combinations(5,1)*combinations(7,3))/(combinations(8,2)*combinations(12,4))\n",
        "print(f'A3 = {P3:.4f}')"
      ],
      "metadata": {
        "colab": {
          "base_uri": "https://localhost:8080/"
        },
        "id": "zdLl97IEo_c6",
        "outputId": "82b4c236-0082-4531-c7c2-4ca7b22a463a"
      },
      "execution_count": 28,
      "outputs": [
        {
          "output_type": "stream",
          "name": "stdout",
          "text": [
            "A3 = 0.1263\n"
          ]
        }
      ]
    },
    {
      "cell_type": "code",
      "source": [
        "print(f'P(A) = {P1+P2+P3:.4f}')"
      ],
      "metadata": {
        "colab": {
          "base_uri": "https://localhost:8080/"
        },
        "id": "Sh83U6NgqC4j",
        "outputId": "137571ab-7184-494d-ffea-7d622a4484a4"
      },
      "execution_count": 29,
      "outputs": [
        {
          "output_type": "stream",
          "name": "stdout",
          "text": [
            "P(A) = 0.3687\n"
          ]
        }
      ]
    },
    {
      "cell_type": "markdown",
      "source": [
        "3.В университет на факультеты A и B поступило равное количество студентов, а на факультет C студентов поступило столько же, сколько на A и B вместе. Вероятность того, что студент факультета A сдаст первую сессию, равна 0.8. Для студента факультета B эта вероятность равна 0.7, а для студента факультета C - 0.9. Студент сдал первую сессию. Какова вероятность, что он учится: a). на факультете A б). на факультете B в). на факультете C?\n"
      ],
      "metadata": {
        "id": "W-Y5QgVeqT3H"
      }
    },
    {
      "cell_type": "code",
      "source": [
        "PD = 0.25*0.8+0.25*0.7+0.5*0.9\n",
        "print(f'PD = {PD}')"
      ],
      "metadata": {
        "colab": {
          "base_uri": "https://localhost:8080/"
        },
        "id": "2d2CDB8pqa5X",
        "outputId": "b1cf4a4a-b1a5-4ead-b4ef-46381185ce8c"
      },
      "execution_count": 30,
      "outputs": [
        {
          "output_type": "stream",
          "name": "stdout",
          "text": [
            "PD = 0.825\n"
          ]
        }
      ]
    },
    {
      "cell_type": "code",
      "source": [
        "PDSA = 0.25*0.8/PD\n",
        "PDSB = 0.25*0.7/PD\n",
        "PDSC = 0.5*0.9/PD\n",
        "print(f'SA = {PDSA:.4f}')\n",
        "print(f'SB = {PDSB:.4f}')\n",
        "print(f'SC = {PDSC:.4f}')"
      ],
      "metadata": {
        "colab": {
          "base_uri": "https://localhost:8080/"
        },
        "id": "rCbsImUsrbar",
        "outputId": "06c91c6e-6930-4ce6-906d-d11c5242a846"
      },
      "execution_count": 31,
      "outputs": [
        {
          "output_type": "stream",
          "name": "stdout",
          "text": [
            "SA = 0.2424\n",
            "SB = 0.2121\n",
            "SC = 0.5455\n"
          ]
        }
      ]
    },
    {
      "cell_type": "markdown",
      "source": [
        "4.Устройство состоит из трех деталей. Для первой детали вероятность выйти из строя в первый месяц равна 0.1, для второй - 0.2, для третьей - 0.25. Какова вероятность того, что в первый месяц выйдут из строя: а). все детали б). только две детали в). хотя бы одна деталь г). от одной до двух деталей?"
      ],
      "metadata": {
        "id": "avmtoUsrsWff"
      }
    },
    {
      "cell_type": "code",
      "source": [
        "P3 = 0.1*0.2*0.25\n",
        "print(f'P3 = {P3:.4f}')"
      ],
      "metadata": {
        "colab": {
          "base_uri": "https://localhost:8080/"
        },
        "id": "qKmzbfmksj-E",
        "outputId": "afdacfdb-08d7-4174-9b54-ab6aa7fffe26"
      },
      "execution_count": 32,
      "outputs": [
        {
          "output_type": "stream",
          "name": "stdout",
          "text": [
            "P3 = 0.0050\n"
          ]
        }
      ]
    },
    {
      "cell_type": "code",
      "source": [
        "P2 = 0.1*0.2*0.75+0.1*0.25*0.8+0.2*0.25*0.9\n",
        "print(f'P2 = {P2:.4f}')"
      ],
      "metadata": {
        "colab": {
          "base_uri": "https://localhost:8080/"
        },
        "id": "WjU8kSSOtSP7",
        "outputId": "03cab728-8791-4d13-f654-fba17c2c9b9b"
      },
      "execution_count": 33,
      "outputs": [
        {
          "output_type": "stream",
          "name": "stdout",
          "text": [
            "P2 = 0.0800\n"
          ]
        }
      ]
    },
    {
      "cell_type": "code",
      "source": [
        "P0= 0.9*0.8*0.75\n",
        "print(f'P0 = {P0:.4f}')"
      ],
      "metadata": {
        "colab": {
          "base_uri": "https://localhost:8080/"
        },
        "id": "TpwMflf1vTsQ",
        "outputId": "673f4e82-3a3c-4fe4-f1e0-09c95bd1df31"
      },
      "execution_count": 34,
      "outputs": [
        {
          "output_type": "stream",
          "name": "stdout",
          "text": [
            "P0 = 0.5400\n"
          ]
        }
      ]
    },
    {
      "cell_type": "code",
      "source": [
        "P_0 = 1 - P0\n",
        "print(f'P_0 = {P_0:.4f}')"
      ],
      "metadata": {
        "colab": {
          "base_uri": "https://localhost:8080/"
        },
        "id": "yQj-UzmEvoai",
        "outputId": "943e411b-50e6-4f49-dd31-fa16c9ac9ee6"
      },
      "execution_count": 35,
      "outputs": [
        {
          "output_type": "stream",
          "name": "stdout",
          "text": [
            "P_0 = 0.4600\n"
          ]
        }
      ]
    },
    {
      "cell_type": "code",
      "source": [
        "P1 = 0.1*0.8*0.75+0.2*0.9*0.75+0.25*0.9*0.8\n",
        "print(f'Р1 = {P1: .4f}')"
      ],
      "metadata": {
        "colab": {
          "base_uri": "https://localhost:8080/"
        },
        "id": "thvSREXMwNI2",
        "outputId": "5a157fe1-02b1-4671-86db-9fc923cc6188"
      },
      "execution_count": 36,
      "outputs": [
        {
          "output_type": "stream",
          "name": "stdout",
          "text": [
            "Р1 =  0.3750\n"
          ]
        }
      ]
    }
  ]
}