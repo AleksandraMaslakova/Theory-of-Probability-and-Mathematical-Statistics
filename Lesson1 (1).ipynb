{
  "nbformat": 4,
  "nbformat_minor": 0,
  "metadata": {
    "colab": {
      "provenance": []
    },
    "kernelspec": {
      "name": "python3",
      "display_name": "Python 3"
    },
    "language_info": {
      "name": "python"
    }
  },
  "cells": [
    {
      "cell_type": "markdown",
      "source": [
        "# Теория вероятностей и математическая статистика\n",
        "Задача 1:  Из колоды в 52 карты извлекаются случайным образом 4 карты. a)\n",
        "Найти вероятность того, что все карты – крести. б) Найти вероятность, что\n",
        "среди 4-х карт окажется хотя бы один туз."
      ],
      "metadata": {
        "id": "TIg2OH-UAdzA"
      }
    },
    {
      "cell_type": "code",
      "execution_count": 1,
      "metadata": {
        "id": "WiZEhS65APQ3"
      },
      "outputs": [],
      "source": [
        "from math import factorial"
      ]
    },
    {
      "cell_type": "code",
      "source": [
        "def combinations(n, k):\n",
        "  return int(factorial(n) / (factorial(k) * factorial(n-k)))"
      ],
      "metadata": {
        "id": "W6ih5l6yClVw"
      },
      "execution_count": 2,
      "outputs": []
    },
    {
      "cell_type": "code",
      "source": [
        "#a)\n",
        "m = combinations(13, 4)\n",
        "print(f'm= {m}')"
      ],
      "metadata": {
        "colab": {
          "base_uri": "https://localhost:8080/"
        },
        "id": "8FfYl5LOESvX",
        "outputId": "1b01a819-8c6b-461e-ea03-0de1a6805efc"
      },
      "execution_count": 17,
      "outputs": [
        {
          "output_type": "stream",
          "name": "stdout",
          "text": [
            "m= 715\n"
          ]
        }
      ]
    },
    {
      "cell_type": "code",
      "source": [
        "n = combinations(52, 4)\n",
        "print(f'n = {n}')"
      ],
      "metadata": {
        "colab": {
          "base_uri": "https://localhost:8080/"
        },
        "id": "qDv0jwGiFOeY",
        "outputId": "2f64530e-09cd-4be9-ae46-3009e5b08939"
      },
      "execution_count": 18,
      "outputs": [
        {
          "output_type": "stream",
          "name": "stdout",
          "text": [
            "n = 270725\n"
          ]
        }
      ]
    },
    {
      "cell_type": "code",
      "source": [
        "P = m/n\n",
        "print(f'P(clubs) = {round(P,4)}')"
      ],
      "metadata": {
        "colab": {
          "base_uri": "https://localhost:8080/"
        },
        "id": "OYzApH7wLqVN",
        "outputId": "4bc051e1-e31a-4d25-dce4-8ab9d2fda984"
      },
      "execution_count": 19,
      "outputs": [
        {
          "output_type": "stream",
          "name": "stdout",
          "text": [
            "P(clubs) = 0.0026\n"
          ]
        }
      ]
    },
    {
      "cell_type": "code",
      "source": [
        "#b)\n",
        "n = combinations(52, 4)\n",
        "print(f'n = {n}')"
      ],
      "metadata": {
        "colab": {
          "base_uri": "https://localhost:8080/"
        },
        "id": "JGuetm7HIJuO",
        "outputId": "a2527998-c5c3-4a1f-dce3-6bb5eed04147"
      },
      "execution_count": 13,
      "outputs": [
        {
          "output_type": "stream",
          "name": "stdout",
          "text": [
            "n = 270725\n"
          ]
        }
      ]
    },
    {
      "cell_type": "code",
      "source": [
        "m = sum([combinations(4,1)*combinations(48,3),combinations(4,2)*combinations(48,2),combinations(4,3)*combinations(48,1),1])\n",
        "print(f'm = {m}')"
      ],
      "metadata": {
        "colab": {
          "base_uri": "https://localhost:8080/"
        },
        "id": "GU7yig-dLPFh",
        "outputId": "540c0882-c098-4941-9b0d-3981534d72b6"
      },
      "execution_count": 14,
      "outputs": [
        {
          "output_type": "stream",
          "name": "stdout",
          "text": [
            "m = 76145\n"
          ]
        }
      ]
    },
    {
      "cell_type": "code",
      "source": [
        "P = m/n\n",
        "print(f'P(ace) = {round(P,4)}')"
      ],
      "metadata": {
        "colab": {
          "base_uri": "https://localhost:8080/"
        },
        "id": "e-4qdhQALg3Z",
        "outputId": "e8d64443-bea6-4c00-ad13-827853dfc65b"
      },
      "execution_count": 16,
      "outputs": [
        {
          "output_type": "stream",
          "name": "stdout",
          "text": [
            "P(ace) = 0.2813\n"
          ]
        }
      ]
    },
    {
      "cell_type": "markdown",
      "source": [
        "a) P = 0,0026 = 0,26%\n",
        "\n",
        "b) P = 0,2813 = 28,13%"
      ],
      "metadata": {
        "id": "58r82RQdMG8s"
      }
    },
    {
      "cell_type": "markdown",
      "source": [
        "Задача 2: На входной двери подъезда установлен кодовый замок, содержащий\n",
        "десять кнопок с цифрами от 0 до 9. Код содержит три цифры, которые нужно\n",
        "нажать одновременно. Какова вероятность того, что человек, не знающий код,\n",
        "откроет дверь с первой попытки?"
      ],
      "metadata": {
        "id": "FdE_pDCQMmgw"
      }
    },
    {
      "cell_type": "code",
      "source": [
        "P = 1/combinations(10,3)\n",
        "print(f'P = {round(P,4)}')"
      ],
      "metadata": {
        "colab": {
          "base_uri": "https://localhost:8080/"
        },
        "id": "GLgbetI2M_xk",
        "outputId": "240ad3b8-f41d-4cf7-9222-84d9d415a9a4"
      },
      "execution_count": 20,
      "outputs": [
        {
          "output_type": "stream",
          "name": "stdout",
          "text": [
            "P = 0.0083\n"
          ]
        }
      ]
    },
    {
      "cell_type": "markdown",
      "source": [
        "P = 0,0083 = 0,83%"
      ],
      "metadata": {
        "id": "oosA_VGZNSvL"
      }
    },
    {
      "cell_type": "markdown",
      "source": [
        "Задача 3: В ящике имеется 15 деталей, из которых 9 окрашены. Рабочий\n",
        "случайным образом извлекает 3 детали. Какова вероятность того, что все\n",
        "извлеченные детали окрашены?"
      ],
      "metadata": {
        "id": "adNApm1tNm2b"
      }
    },
    {
      "cell_type": "code",
      "source": [
        "P = combinations(9,3)/combinations(15,3)\n",
        "print(f'P = {round(P,4)}')"
      ],
      "metadata": {
        "colab": {
          "base_uri": "https://localhost:8080/"
        },
        "id": "nU-0jdm3NxB5",
        "outputId": "f2bb18b9-0190-4d92-ff49-31ca60077278"
      },
      "execution_count": 21,
      "outputs": [
        {
          "output_type": "stream",
          "name": "stdout",
          "text": [
            "P = 0.1846\n"
          ]
        }
      ]
    },
    {
      "cell_type": "markdown",
      "source": [
        "P = 0.1846 = 18,46%"
      ],
      "metadata": {
        "id": "s2oG3qOlOIuH"
      }
    },
    {
      "cell_type": "markdown",
      "source": [
        "Задача 4: В лотерее 100 билетов. Из них 2 выигрышных. Какова вероятность\n",
        "того, что 2 приобретенных билета окажутся выигрышными?"
      ],
      "metadata": {
        "id": "CeLN_DutOUZe"
      }
    },
    {
      "cell_type": "code",
      "source": [
        "P = 1/combinations(100, 2)\n",
        "print(f'P = {round(P, 4)}')"
      ],
      "metadata": {
        "colab": {
          "base_uri": "https://localhost:8080/"
        },
        "id": "ZKK-bUTcOZDc",
        "outputId": "ab2ff8a2-74c8-4314-be5a-1f78c39320bb"
      },
      "execution_count": 22,
      "outputs": [
        {
          "output_type": "stream",
          "name": "stdout",
          "text": [
            "P = 0.0002\n"
          ]
        }
      ]
    },
    {
      "cell_type": "markdown",
      "source": [
        "P = 0,0002 = 0,02%"
      ],
      "metadata": {
        "id": "KjTr7tXFO4iT"
      }
    }
  ]
}