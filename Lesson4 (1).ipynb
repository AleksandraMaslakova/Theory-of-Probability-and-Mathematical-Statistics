{
  "nbformat": 4,
  "nbformat_minor": 0,
  "metadata": {
    "colab": {
      "provenance": []
    },
    "kernelspec": {
      "name": "python3",
      "display_name": "Python 3"
    },
    "language_info": {
      "name": "python"
    }
  },
  "cells": [
    {
      "cell_type": "markdown",
      "source": [
        "# Урок 4. Непрерывные случайные величины. Функция распределения и плотность распределения вероятностей. Равномерное и нормальное распределение. Центральная предельная теорема\n",
        "1.Случайная непрерывная величина A имеет равномерное распределение на промежутке (200, 800].\n",
        "Найдите ее среднее значение и дисперсию."
      ],
      "metadata": {
        "id": "w0XQOm55go3u"
      }
    },
    {
      "cell_type": "code",
      "execution_count": 1,
      "metadata": {
        "colab": {
          "base_uri": "https://localhost:8080/"
        },
        "id": "r8yrjQUVgc4U",
        "outputId": "5583d6ba-1f89-4b0c-a1c6-5dbb4433d409"
      },
      "outputs": [
        {
          "output_type": "stream",
          "name": "stdout",
          "text": [
            "M(A) = 500.00;\n",
            " D(A) = 30000.00\n"
          ]
        }
      ],
      "source": [
        "def mean_and_variance(a, b):\n",
        "  return f'M(A) = {(a+b)/2:.2f};\\n D(A) = {((b-a)**2)/12:.2f}'\n",
        "print(mean_and_variance(200, 800))"
      ]
    },
    {
      "cell_type": "markdown",
      "source": [
        "2.О случайной непрерывной равномерно распределенной величине B известно, что ее дисперсия равна 0.2.\n",
        "Можно ли найти правую границу величины B и ее среднее значение зная, что левая граница равна 0.5?\n",
        "Если да, найдите ее."
      ],
      "metadata": {
        "id": "_xC1vww9i9P8"
      }
    },
    {
      "cell_type": "code",
      "source": [
        "b = 0.5 + 2.4 **(1/2)\n",
        "print(f'B - b = {b:.3f}')\n",
        "print(f'M(B) = {(b+0.5)/2:.2f}')"
      ],
      "metadata": {
        "colab": {
          "base_uri": "https://localhost:8080/"
        },
        "id": "KTS_03whjB3H",
        "outputId": "fd7a9015-9936-4c77-e429-45872dab537a"
      },
      "execution_count": 2,
      "outputs": [
        {
          "output_type": "stream",
          "name": "stdout",
          "text": [
            "B - b = 2.049\n",
            "M(B) = 1.27\n"
          ]
        }
      ]
    },
    {
      "cell_type": "markdown",
      "source": [
        "3.Непрерывная случайная величина X распределена нормально и задана плотностью распределения\n",
        "f(x) = (1 / (4 * sqrt(2*pi))) * (exp(-(x+2)**2) / 32).\n",
        "Найдите:\n",
        "а). M(X)\n",
        "б). D(X)\n",
        "в). std(X) (среднее квадратичное отклонение)\n",
        "\n",
        "M(X) = -2\n",
        "\n",
        "D(X) = 16\n",
        "\n",
        "std(X) = 4"
      ],
      "metadata": {
        "id": "xQhbp67xlxMu"
      }
    },
    {
      "cell_type": "markdown",
      "source": [
        "4.Рост взрослого населения города X имеет нормальное распределение.\n",
        "Причем, средний рост равен 174 см, а среднее квадратичное отклонение равно 8 см.\n",
        "Какова вероятность того, что случайным образом выбранный взрослый человек имеет рост:\n",
        "а). больше 182 см\n",
        "б). больше 190 см\n",
        "в). от 166 см до 190 см\n",
        "г). от 166 см до 182 см\n",
        "д). от 158 см до 190 см\n",
        "е). не выше 150 см или не ниже 190 см\n",
        "ё). не выше 150 см или не ниже 198 см\n",
        "ж). ниже 166 см."
      ],
      "metadata": {
        "id": "6u90LqUTl80W"
      }
    },
    {
      "cell_type": "code",
      "source": [
        "def z_value(height):\n",
        "  return (height - 174)/8"
      ],
      "metadata": {
        "id": "bGGZ-S4rmETv"
      },
      "execution_count": 3,
      "outputs": []
    },
    {
      "cell_type": "code",
      "source": [
        "from statistics import NormalDist"
      ],
      "metadata": {
        "id": "a0AUPbptnL9v"
      },
      "execution_count": 4,
      "outputs": []
    },
    {
      "cell_type": "code",
      "source": [
        "print(z_value(182))"
      ],
      "metadata": {
        "colab": {
          "base_uri": "https://localhost:8080/"
        },
        "id": "gGYu844Kna8U",
        "outputId": "e60f78ff-d2b9-40b4-f73d-3e457278aa88"
      },
      "execution_count": 5,
      "outputs": [
        {
          "output_type": "stream",
          "name": "stdout",
          "text": [
            "1.0\n"
          ]
        }
      ]
    },
    {
      "cell_type": "code",
      "source": [
        "NormalDist().cdf(z_value(182))"
      ],
      "metadata": {
        "colab": {
          "base_uri": "https://localhost:8080/"
        },
        "id": "zYtVBVCgnm9r",
        "outputId": "09cb1ff5-2a4b-49d0-f1b8-d3f9d9e92e61"
      },
      "execution_count": 8,
      "outputs": [
        {
          "output_type": "execute_result",
          "data": {
            "text/plain": [
              "0.8413447460685429"
            ]
          },
          "metadata": {},
          "execution_count": 8
        }
      ]
    },
    {
      "cell_type": "code",
      "source": [
        "P = 1 - NormalDist().cdf(z_value(182))\n",
        "P"
      ],
      "metadata": {
        "colab": {
          "base_uri": "https://localhost:8080/"
        },
        "id": "aLWHc62hoDQp",
        "outputId": "7aabb368-c12c-4c02-ec2b-b934d350e677"
      },
      "execution_count": 9,
      "outputs": [
        {
          "output_type": "execute_result",
          "data": {
            "text/plain": [
              "0.15865525393145707"
            ]
          },
          "metadata": {},
          "execution_count": 9
        }
      ]
    },
    {
      "cell_type": "code",
      "source": [
        "Z = z_value(190)\n",
        "Z"
      ],
      "metadata": {
        "colab": {
          "base_uri": "https://localhost:8080/"
        },
        "id": "FxxGVO5boMYt",
        "outputId": "651965f2-de39-4169-d4f5-8f83448ca4af"
      },
      "execution_count": 10,
      "outputs": [
        {
          "output_type": "execute_result",
          "data": {
            "text/plain": [
              "2.0"
            ]
          },
          "metadata": {},
          "execution_count": 10
        }
      ]
    },
    {
      "cell_type": "code",
      "source": [
        "P = 1 - NormalDist().cdf(Z)\n",
        "P"
      ],
      "metadata": {
        "colab": {
          "base_uri": "https://localhost:8080/"
        },
        "id": "Jz1wgH4-ouac",
        "outputId": "10b069cc-2841-4e5d-94f6-e360796591d9"
      },
      "execution_count": 13,
      "outputs": [
        {
          "output_type": "execute_result",
          "data": {
            "text/plain": [
              "0.02275013194817921"
            ]
          },
          "metadata": {},
          "execution_count": 13
        }
      ]
    },
    {
      "cell_type": "code",
      "source": [
        "Z1 = z_value(166)\n",
        "Z1"
      ],
      "metadata": {
        "colab": {
          "base_uri": "https://localhost:8080/"
        },
        "id": "X_2X5FTEo9lr",
        "outputId": "57856a20-31f5-4621-b950-9d00dd4c8a0d"
      },
      "execution_count": 14,
      "outputs": [
        {
          "output_type": "execute_result",
          "data": {
            "text/plain": [
              "-1.0"
            ]
          },
          "metadata": {},
          "execution_count": 14
        }
      ]
    },
    {
      "cell_type": "code",
      "source": [
        "Z2 = z_value(182)\n",
        "Z2"
      ],
      "metadata": {
        "colab": {
          "base_uri": "https://localhost:8080/"
        },
        "id": "6cIMqZlFpG9z",
        "outputId": "93962dfa-26f1-4edb-c866-4842e5eb268e"
      },
      "execution_count": 17,
      "outputs": [
        {
          "output_type": "execute_result",
          "data": {
            "text/plain": [
              "1.0"
            ]
          },
          "metadata": {},
          "execution_count": 17
        }
      ]
    },
    {
      "cell_type": "code",
      "source": [
        "P = NormalDist().cdf(Z2) - NormalDist().cdf(Z1)\n",
        "P"
      ],
      "metadata": {
        "colab": {
          "base_uri": "https://localhost:8080/"
        },
        "id": "oMLNfbSSpXpZ",
        "outputId": "eac3ac5b-3e96-4807-febd-4bb3668b3bb8"
      },
      "execution_count": 18,
      "outputs": [
        {
          "output_type": "execute_result",
          "data": {
            "text/plain": [
              "0.6826894921370859"
            ]
          },
          "metadata": {},
          "execution_count": 18
        }
      ]
    },
    {
      "cell_type": "code",
      "source": [
        "Z1 = z_value(158)\n",
        "Z1"
      ],
      "metadata": {
        "colab": {
          "base_uri": "https://localhost:8080/"
        },
        "id": "gidTXxvPpwxp",
        "outputId": "e547db0c-3876-433b-ebfb-066c6db3723d"
      },
      "execution_count": 19,
      "outputs": [
        {
          "output_type": "execute_result",
          "data": {
            "text/plain": [
              "-2.0"
            ]
          },
          "metadata": {},
          "execution_count": 19
        }
      ]
    },
    {
      "cell_type": "code",
      "source": [
        "Z2 = z_value(190)\n",
        "Z2"
      ],
      "metadata": {
        "colab": {
          "base_uri": "https://localhost:8080/"
        },
        "id": "Qi5KXMpLp7Ja",
        "outputId": "300e1112-b320-4f03-c6d5-39ecee8fdadb"
      },
      "execution_count": 20,
      "outputs": [
        {
          "output_type": "execute_result",
          "data": {
            "text/plain": [
              "2.0"
            ]
          },
          "metadata": {},
          "execution_count": 20
        }
      ]
    },
    {
      "cell_type": "code",
      "source": [
        "P = NormalDist().cdf(Z2) - NormalDist().cdf(Z1)\n",
        "P"
      ],
      "metadata": {
        "colab": {
          "base_uri": "https://localhost:8080/"
        },
        "id": "Cwep6qAyqEL5",
        "outputId": "e64bc7e7-f6ea-4346-9ee5-0607ca0d8cee"
      },
      "execution_count": 21,
      "outputs": [
        {
          "output_type": "execute_result",
          "data": {
            "text/plain": [
              "0.9544997361036416"
            ]
          },
          "metadata": {},
          "execution_count": 21
        }
      ]
    },
    {
      "cell_type": "code",
      "source": [
        "Z1= z_value(150)\n",
        "Z1"
      ],
      "metadata": {
        "colab": {
          "base_uri": "https://localhost:8080/"
        },
        "id": "OyYWKcWEqSET",
        "outputId": "cd2cb272-fc18-4b16-90b9-669051570fae"
      },
      "execution_count": 22,
      "outputs": [
        {
          "output_type": "execute_result",
          "data": {
            "text/plain": [
              "-3.0"
            ]
          },
          "metadata": {},
          "execution_count": 22
        }
      ]
    },
    {
      "cell_type": "code",
      "source": [
        "Z2 = z_value(190)\n",
        "Z2"
      ],
      "metadata": {
        "colab": {
          "base_uri": "https://localhost:8080/"
        },
        "id": "TQKKCUc-qYY3",
        "outputId": "74d83f59-a40c-4baf-d01c-864b189ef1a7"
      },
      "execution_count": 23,
      "outputs": [
        {
          "output_type": "execute_result",
          "data": {
            "text/plain": [
              "2.0"
            ]
          },
          "metadata": {},
          "execution_count": 23
        }
      ]
    },
    {
      "cell_type": "code",
      "source": [
        "P = NormalDist().cdf(Z1)+(1 - NormalDist().cdf(Z2))\n",
        "P"
      ],
      "metadata": {
        "colab": {
          "base_uri": "https://localhost:8080/"
        },
        "id": "8YTgNV5Kq1hi",
        "outputId": "8523857c-94a8-42ff-fc76-f4d5444444dc"
      },
      "execution_count": 25,
      "outputs": [
        {
          "output_type": "execute_result",
          "data": {
            "text/plain": [
              "0.024100029979809312"
            ]
          },
          "metadata": {},
          "execution_count": 25
        }
      ]
    },
    {
      "cell_type": "code",
      "source": [
        "Z1= z_value(150)\n",
        "Z1"
      ],
      "metadata": {
        "colab": {
          "base_uri": "https://localhost:8080/"
        },
        "id": "q6bNAGQvrLDi",
        "outputId": "b1d0b555-074a-4efd-b162-3d9745f01116"
      },
      "execution_count": 26,
      "outputs": [
        {
          "output_type": "execute_result",
          "data": {
            "text/plain": [
              "-3.0"
            ]
          },
          "metadata": {},
          "execution_count": 26
        }
      ]
    },
    {
      "cell_type": "code",
      "source": [
        "Z2= z_value(198)\n",
        "Z2"
      ],
      "metadata": {
        "colab": {
          "base_uri": "https://localhost:8080/"
        },
        "id": "-jYHNgMjrWkG",
        "outputId": "895a265c-337a-4697-aabf-15560c84a15a"
      },
      "execution_count": 27,
      "outputs": [
        {
          "output_type": "execute_result",
          "data": {
            "text/plain": [
              "3.0"
            ]
          },
          "metadata": {},
          "execution_count": 27
        }
      ]
    },
    {
      "cell_type": "code",
      "source": [
        "P = NormalDist().cdf(Z1)+(1 - NormalDist().cdf(Z2))\n",
        "P"
      ],
      "metadata": {
        "colab": {
          "base_uri": "https://localhost:8080/"
        },
        "id": "hCzHrOZcra--",
        "outputId": "4193ab03-d177-4d51-fbe1-9e4fc8eb75e9"
      },
      "execution_count": 28,
      "outputs": [
        {
          "output_type": "execute_result",
          "data": {
            "text/plain": [
              "0.002699796063260207"
            ]
          },
          "metadata": {},
          "execution_count": 28
        }
      ]
    },
    {
      "cell_type": "code",
      "source": [
        "Z = z_value(166)\n",
        "Z"
      ],
      "metadata": {
        "colab": {
          "base_uri": "https://localhost:8080/"
        },
        "id": "-3oEoQF2riWW",
        "outputId": "95793c0b-7c75-4713-efa0-ec8c22480bd8"
      },
      "execution_count": 29,
      "outputs": [
        {
          "output_type": "execute_result",
          "data": {
            "text/plain": [
              "-1.0"
            ]
          },
          "metadata": {},
          "execution_count": 29
        }
      ]
    },
    {
      "cell_type": "code",
      "source": [
        "P = NormalDist().cdf(Z)\n",
        "P"
      ],
      "metadata": {
        "colab": {
          "base_uri": "https://localhost:8080/"
        },
        "id": "4vfZM6Z3rvKn",
        "outputId": "6db0e4c8-2122-4e8e-9af0-2536713b5e34"
      },
      "execution_count": 31,
      "outputs": [
        {
          "output_type": "execute_result",
          "data": {
            "text/plain": [
              "0.15865525393145707"
            ]
          },
          "metadata": {},
          "execution_count": 31
        }
      ]
    },
    {
      "cell_type": "markdown",
      "source": [
        "P(X>=182) = 0.1587;\n",
        "\n",
        "P(X>=190) = 0.0227;\n",
        "\n",
        "P(166<=X<=190) = 0.8186;\n",
        "\n",
        "P(166<=X<=182) = 0.6827;\n",
        "\n",
        "P(158<=X<=190) = 0.9545;\n",
        "\n",
        "P(150<=X & X>=190) = 0.0241;\n",
        "\n",
        "P(150<=X & X>=198) = 0.0027;\n",
        "\n",
        "P(X<=166) = 0.1587"
      ],
      "metadata": {
        "id": "Qj2FNaCNsBTq"
      }
    },
    {
      "cell_type": "markdown",
      "source": [
        "5.На сколько сигм (средних квадратичных отклонений) отклоняется рост человека, равный 190 см, от\n",
        "математического ожидания роста в популяции, в которой M(X) = 178 см и D(X) = 25 кв.см?"
      ],
      "metadata": {
        "id": "XWhC-2wVunXZ"
      }
    },
    {
      "cell_type": "code",
      "source": [
        "Z = (190 -178)/25**(1/2)\n",
        "Z"
      ],
      "metadata": {
        "colab": {
          "base_uri": "https://localhost:8080/"
        },
        "id": "EHNkwCQTuswl",
        "outputId": "8cc7a9bd-67da-435a-cce3-722c15d1daae"
      },
      "execution_count": 32,
      "outputs": [
        {
          "output_type": "execute_result",
          "data": {
            "text/plain": [
              "2.4"
            ]
          },
          "metadata": {},
          "execution_count": 32
        }
      ]
    },
    {
      "cell_type": "code",
      "source": [],
      "metadata": {
        "id": "xlgKpvzXu9b5"
      },
      "execution_count": null,
      "outputs": []
    }
  ]
}